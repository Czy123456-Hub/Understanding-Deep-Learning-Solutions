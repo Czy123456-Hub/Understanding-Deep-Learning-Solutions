{
 "cells": [
  {
   "cell_type": "markdown",
   "metadata": {
    "colab_type": "text",
    "id": "view-in-github"
   },
   "source": [
    "<a href=\"https://colab.research.google.com/github/udlbook/udlbook/blob/main/Notebooks/Chap08/8_1_MNIST_1D_Performance.ipynb\" target=\"_parent\"><img src=\"https://colab.research.google.com/assets/colab-badge.svg\" alt=\"Open In Colab\"/></a>"
   ]
  },
  {
   "cell_type": "markdown",
   "metadata": {
    "id": "L6chybAVFJW2"
   },
   "source": [
    "# **Notebook 8.1: MNIST_1D_Performance**\n",
    "\n",
    "This notebook runs a simple neural network on the MNIST1D dataset as in figure 8.2a. It uses code from https://github.com/greydanus/mnist1d to generate the data.\n",
    "\n",
    "Work through the cells below, running each cell in turn. In various places you will see the words \"TODO\". Follow the instructions at these places and make predictions about what is going to happen or write code to complete the functions.\n",
    "\n",
    "Contact me at udlbookmail@gmail.com if you find any mistakes or have any suggestions."
   ]
  },
  {
   "cell_type": "code",
   "execution_count": 1,
   "metadata": {
    "id": "ifVjS4cTOqKz"
   },
   "outputs": [
    {
     "name": "stdout",
     "output_type": "stream",
     "text": [
      "Collecting git+https://github.com/greydanus/mnist1d\n",
      "  Cloning https://github.com/greydanus/mnist1d to /private/var/folders/nj/h0xmv9g94pv32k4tzjqpbfkm0000gn/T/pip-req-build-c4py6tlv\n",
      "  Running command git clone --filter=blob:none --quiet https://github.com/greydanus/mnist1d /private/var/folders/nj/h0xmv9g94pv32k4tzjqpbfkm0000gn/T/pip-req-build-c4py6tlv\n",
      "  Resolved https://github.com/greydanus/mnist1d to commit 7878d96082abd200c546a07a4101fa90b30fdf7e\n",
      "  Installing build dependone\n",
      "\u001b[?25h  Getting requirements to build wheel ... \u001b[?2done\n",
      "\u001b[?25h  Preparing metadata (pyproject.toml) ... \u001b[?25done\n",
      "\u001b[?25hRequirement already satisfied: requests in /Users/chengzhiyuan/opt/anaconda3/envs/new_env/lib/python3.9/site-packages (from mnist1d==0.0.2.post16) (2.32.4)\n",
      "Requirement already satisfied: numpy in /Users/chengzhiyuan/opt/anaconda3/envs/new_env/lib/python3.9/site-packages (from mnist1d==0.0.2.post16) (1.24.3)\n",
      "Collecting matplotlib (from mnist1d==0.0.2.post16)\n",
      "  Using cached matplotlib-3.9.4-cp39-cp39-macosx_10_12_x86_64.whl.metadata (11 kB)\n",
      "Collecting scipy (from mnist1d==0.0.2.post16)\n",
      "  Using cached scipy-1.13.1-cp39-cp39-macosx_10_9_x86_64.whl.metadata (60 kB)\n",
      "Collecting contourpy>=1.0.1 (from matplotlib->mnist1d==0.0.2.post16)\n",
      "  Using cached contourpy-1.3.0-cp39-cp39-macosx_10_9_x86_64.whl.metadata (5.4 kB)\n",
      "Collecting cycler>=0.10 (from matplotlib->mnist1d==0.0.2.post16)\n",
      "  Using cached cycler-0.12.1-py3-none-any.whl.metadata (3.8 kB)\n",
      "Collecting fonttools>=4.22.0 (from matplotlib->mnist1d==0.0.2.post16)\n",
      "  Using cached fonttools-4.58.5-cp39-cp39-macosx_10_9_x86_64.whl.metadata (106 kB)\n",
      "Collecting kiwisolver>=1.3.1 (from matplotlib->mnist1d==0.0.2.post16)\n",
      "  Using cached kiwisolver-1.4.7-cp39-cp39-macosx_10_9_x86_64.whl.metadata (6.3 kB)\n",
      "Requirement already satisfied: packaging>=20.0 in /Users/chengzhiyuan/opt/anaconda3/envs/new_env/lib/python3.9/site-packages (from matplotlib->mnist1d==0.0.2.post16) (24.2)\n",
      "Collecting pillow>=8 (from matplotlib->mnist1d==0.0.2.post16)\n",
      "  Downloading pillow-11.3.0-cp39-cp39-macosx_10_10_x86_64.whl.metadata (9.0 kB)\n",
      "Collecting pyparsing>=2.3.1 (from matplotlib->mnist1d==0.0.2.post16)\n",
      "  Using cached pyparsing-3.2.3-py3-none-any.whl.metadata (5.0 kB)\n",
      "Requirement already satisfied: python-dateutil>=2.7 in /Users/chengzhiyuan/opt/anaconda3/envs/new_env/lib/python3.9/site-packages (from matplotlib->mnist1d==0.0.2.post16) (2.9.0.post0)\n",
      "Collecting importlib-resources>=3.2.0 (from matplotlib->mnist1d==0.0.2.post16)\n",
      "  Using cached importlib_resources-6.5.2-py3-none-any.whl.metadata (3.9 kB)\n",
      "Requirement already satisfied: zipp>=3.1.0 in /Users/chengzhiyuan/opt/anaconda3/envs/new_env/lib/python3.9/site-packages (from importlib-resources>=3.2.0->matplotlib->mnist1d==0.0.2.post16) (3.21.0)\n",
      "Requirement already satisfied: six>=1.5 in /Users/chengzhiyuan/opt/anaconda3/envs/new_env/lib/python3.9/site-packages (from python-dateutil>=2.7->matplotlib->mnist1d==0.0.2.post16) (1.17.0)\n",
      "Requirement already satisfied: charset_normalizer<4,>=2 in /Users/chengzhiyuan/opt/anaconda3/envs/new_env/lib/python3.9/site-packages (from requests->mnist1d==0.0.2.post16) (3.3.2)\n",
      "Requirement already satisfied: idna<4,>=2.5 in /Users/chengzhiyuan/opt/anaconda3/envs/new_env/lib/python3.9/site-packages (from requests->mnist1d==0.0.2.post16) (3.7)\n",
      "Requirement already satisfied: urllib3<3,>=1.21.1 in /Users/chengzhiyuan/opt/anaconda3/envs/new_env/lib/python3.9/site-packages (from requests->mnist1d==0.0.2.post16) (2.5.0)\n",
      "Requirement already satisfied: certifi>=2017.4.17 in /Users/chengzhiyuan/opt/anaconda3/envs/new_env/lib/python3.9/site-packages (from requests->mnist1d==0.0.2.post16) (2025.6.15)\n",
      "Using cached matplotlib-3.9.4-cp39-cp39-macosx_10_12_x86_64.whl (7.9 MB)\n",
      "Using cached contourpy-1.3.0-cp39-cp39-macosx_10_9_x86_64.whl (265 kB)\n",
      "Using cached cycler-0.12.1-py3-none-any.whl (8.3 kB)\n",
      "Using cached fonttools-4.58.5-cp39-cp39-macosx_10_9_x86_64.whl (2.3 MB)\n",
      "Using cached importlib_resources-6.5.2-py3-none-any.whl (37 kB)\n",
      "Using cached kiwisolver-1.4.7-cp39-cp39-macosx_10_9_x86_64.whl (65 kB)\n",
      "Downloading pillow-11.3.0-cp39-cp39-macosx_10_10_x86_64.whl (5.3 MB)\n",
      "\u001b[2K   \u001b[90m━━━━━━━━━━━━━━━━━━━━━━━━━━━━━━━━━━━━━━━━\u001b[0m \u001b[32m5.3/5.3 MB\u001b[0m \u001b[31m1.7 MB/s\u001b[0m eta \u001b[36m0:00:00\u001b[0ma \u001b[36m0:00:01\u001b[0m\n",
      "\u001b[?25hUsing cached pyparsing-3.2.3-py3-none-any.whl (111 kB)\n",
      "Using cached scipy-1.13.1-cp39-cp39-macosx_10_9_x86_64.whl (39.4 MB)\n",
      "Building wheels for collected packages: mnist1d\n",
      "  Building wheel for mnist1d (pyproject.toml) ... \u001b[?25done\n",
      "\u001b[?25h  Created wheel for mnist1d: filename=mnist1d-0.0.2.post16-py3-none-any.whl size=14665 sha256=826f8838a97762cc3021dffe0eb34249da21e808217f3b69e125104ee8f6b3a1\n",
      "  Stored in directory: /private/var/folders/nj/h0xmv9g94pv32k4tzjqpbfkm0000gn/T/pip-ephem-wheel-cache-mzt_libx/wheels/c4/34/e0/a3b4376888d7486638e921a69788a6309c58168eb2b2183b5b\n",
      "Successfully built mnist1d\n",
      "Installing collected packages: scipy, pyparsing, pillow, kiwisolver, importlib-resources, fonttools, cycler, contourpy, matplotlib, mnist1d\n",
      "\u001b[2K   \u001b[90m━━━━━━━━━━━━━━━━━━━━━━━━━━━━━━━━━━━━━━━━\u001b[0m \u001b[32m10/10\u001b[0m [mnist1d]8/10\u001b[0m [matplotlib]\n",
      "Successfully installed contourpy-1.3.0 cycler-0.12.1 fonttools-4.58.5 importlib-resources-6.5.2 kiwisolver-1.4.7 matplotlib-3.9.4 mnist1d-0.0.2.post16 pillow-11.3.0 pyparsing-3.2.3 scipy-1.13.1\n",
      "Note: you may need to restart the kernel to use updated packages.\n"
     ]
    }
   ],
   "source": [
    "# Run this if you're in a Colab to install MNIST 1D repository\n",
    "%pip install git+https://github.com/greydanus/mnist1d"
   ]
  },
  {
   "cell_type": "code",
   "execution_count": 2,
   "metadata": {
    "id": "qyE7G1StPIqO"
   },
   "outputs": [],
   "source": [
    "import torch, torch.nn as nn\n",
    "from torch.utils.data import TensorDataset, DataLoader\n",
    "from torch.optim.lr_scheduler import StepLR\n",
    "import numpy as np\n",
    "import matplotlib.pyplot as plt\n",
    "import mnist1d"
   ]
  },
  {
   "cell_type": "markdown",
   "metadata": {
    "id": "F7LNq72SP6jO"
   },
   "source": [
    "Let's generate a training and test dataset using the MNIST1D code.  The dataset gets saved as a .pkl file so it doesn't have to be regenerated each time."
   ]
  },
  {
   "cell_type": "code",
   "execution_count": 3,
   "metadata": {
    "id": "YLxf7dJfPaqw"
   },
   "outputs": [
    {
     "name": "stdout",
     "output_type": "stream",
     "text": [
      "Did or could not load data from ./mnist1d_data.pkl. Rebuilding dataset...\n",
      "Examples in training set: 4000\n",
      "Examples in test set: 1000\n",
      "Length of each example: 40\n"
     ]
    }
   ],
   "source": [
    "args = mnist1d.data.get_dataset_args()\n",
    "data = mnist1d.data.get_dataset(args, path='./mnist1d_data.pkl', download=False, regenerate=False)\n",
    "\n",
    "# The training and test input and outputs are in\n",
    "# data['x'], data['y'], data['x_test'], and data['y_test']\n",
    "print(\"Examples in training set: {}\".format(len(data['y'])))\n",
    "print(\"Examples in test set: {}\".format(len(data['y_test'])))\n",
    "print(\"Length of each example: {}\".format(data['x'].shape[-1]))"
   ]
  },
  {
   "cell_type": "code",
   "execution_count": 6,
   "metadata": {
    "id": "FxaB5vc0uevl"
   },
   "outputs": [
    {
     "name": "stdout",
     "output_type": "stream",
     "text": [
      "Initializing layer\n",
      "Initializing layer\n",
      "Initializing layer\n",
      "Initializing layer\n",
      "Initializing layer\n",
      "Initializing layer\n"
     ]
    },
    {
     "data": {
      "text/plain": [
       "Sequential(\n",
       "  (0): Linear(in_features=40, out_features=100, bias=True)\n",
       "  (1): ReLU()\n",
       "  (2): Linear(in_features=100, out_features=100, bias=True)\n",
       "  (3): ReLU()\n",
       "  (4): Linear(in_features=100, out_features=10, bias=True)\n",
       ")"
      ]
     },
     "execution_count": 6,
     "metadata": {},
     "output_type": "execute_result"
    }
   ],
   "source": [
    "D_i = 40    # Input dimensions\n",
    "D_k = 100   # Hidden dimensions\n",
    "D_o = 10    # Output dimensions\n",
    "# TODO:\n",
    "# Define a model with two hidden layers of size 100\n",
    "# And ReLU activations between them\n",
    "# Replace this line (see Figure 7.8 of book for help):\n",
    "model = torch.nn.Sequential(\n",
    "    nn.Linear(D_i, D_k),\n",
    "    nn.ReLU(),                       \n",
    "    nn.Linear(D_k, D_k),\n",
    "    nn.ReLU(),\n",
    "    nn.Linear(D_k, D_o));\n",
    "\n",
    "\n",
    "def weights_init(layer_in):\n",
    "  # TODO:\n",
    "  # Initialize the parameters with He initialization\n",
    "  # Replace this line (see figure 7.8 of book for help)\n",
    "  if isinstance(layer_in, nn.Linear):\n",
    "           nn.init.kaiming_normal_(layer_in.weight)\n",
    "           layer_in.bias.data.fill_(0.0)\n",
    "  print(\"Initializing layer\")\n",
    "\n",
    "\n",
    "# Call the function you just defined\n",
    "model.apply(weights_init)\n"
   ]
  },
  {
   "cell_type": "code",
   "execution_count": 7,
   "metadata": {
    "id": "_rX6N3VyyQTY"
   },
   "outputs": [
    {
     "name": "stdout",
     "output_type": "stream",
     "text": [
      "Initializing layer\n",
      "Initializing layer\n",
      "Initializing layer\n",
      "Initializing layer\n",
      "Initializing layer\n",
      "Initializing layer\n",
      "Epoch     0, train loss 1.547923, train error 59.08,  test loss 1.624220, test error 64.10\n",
      "Epoch     1, train loss 1.315074, train error 48.25,  test loss 1.468090, test error 56.70\n",
      "Epoch     2, train loss 1.118087, train error 41.67,  test loss 1.315070, test error 52.70\n",
      "Epoch     3, train loss 0.972324, train error 34.55,  test loss 1.224592, test error 47.30\n",
      "Epoch     4, train loss 0.882886, train error 32.10,  test loss 1.238162, test error 47.00\n",
      "Epoch     5, train loss 0.749627, train error 26.65,  test loss 1.170012, test error 43.70\n",
      "Epoch     6, train loss 0.683175, train error 23.97,  test loss 1.131482, test error 41.00\n",
      "Epoch     7, train loss 0.613804, train error 20.93,  test loss 1.114505, test error 42.00\n",
      "Epoch     8, train loss 0.610581, train error 21.85,  test loss 1.174501, test error 41.80\n",
      "Epoch     9, train loss 0.501417, train error 17.05,  test loss 1.142163, test error 40.00\n",
      "Epoch    10, train loss 0.383664, train error 11.05,  test loss 1.054849, test error 38.10\n",
      "Epoch    11, train loss 0.351994, train error 10.20,  test loss 1.091748, test error 37.80\n",
      "Epoch    12, train loss 0.322746, train error 8.80,  test loss 1.097644, test error 38.10\n",
      "Epoch    13, train loss 0.299158, train error 7.82,  test loss 1.095103, test error 37.70\n",
      "Epoch    14, train loss 0.257223, train error 6.00,  test loss 1.091885, test error 36.80\n",
      "Epoch    15, train loss 0.250406, train error 5.80,  test loss 1.135137, test error 36.40\n",
      "Epoch    16, train loss 0.216216, train error 4.32,  test loss 1.118500, test error 36.70\n",
      "Epoch    17, train loss 0.199501, train error 4.12,  test loss 1.156878, test error 37.50\n",
      "Epoch    18, train loss 0.180444, train error 3.32,  test loss 1.182138, test error 35.90\n",
      "Epoch    19, train loss 0.166263, train error 2.78,  test loss 1.182260, test error 37.20\n",
      "Epoch    20, train loss 0.141602, train error 1.50,  test loss 1.192981, test error 37.10\n",
      "Epoch    21, train loss 0.131853, train error 1.15,  test loss 1.201592, test error 36.30\n",
      "Epoch    22, train loss 0.123759, train error 0.75,  test loss 1.213418, test error 36.50\n",
      "Epoch    23, train loss 0.116692, train error 0.78,  test loss 1.210986, test error 35.90\n",
      "Epoch    24, train loss 0.110917, train error 0.53,  test loss 1.227462, test error 36.00\n",
      "Epoch    25, train loss 0.108735, train error 0.68,  test loss 1.262145, test error 37.30\n",
      "Epoch    26, train loss 0.100153, train error 0.47,  test loss 1.260096, test error 35.70\n",
      "Epoch    27, train loss 0.095553, train error 0.30,  test loss 1.275733, test error 37.00\n",
      "Epoch    28, train loss 0.090280, train error 0.32,  test loss 1.271430, test error 37.30\n",
      "Epoch    29, train loss 0.086929, train error 0.35,  test loss 1.278874, test error 35.70\n",
      "Epoch    30, train loss 0.081218, train error 0.20,  test loss 1.284448, test error 36.00\n",
      "Epoch    31, train loss 0.079297, train error 0.18,  test loss 1.296347, test error 36.70\n",
      "Epoch    32, train loss 0.077104, train error 0.15,  test loss 1.295737, test error 36.40\n",
      "Epoch    33, train loss 0.075566, train error 0.20,  test loss 1.299100, test error 35.80\n",
      "Epoch    34, train loss 0.073861, train error 0.12,  test loss 1.310019, test error 36.30\n",
      "Epoch    35, train loss 0.072120, train error 0.07,  test loss 1.317976, test error 36.60\n",
      "Epoch    36, train loss 0.070310, train error 0.07,  test loss 1.325024, test error 37.10\n",
      "Epoch    37, train loss 0.069179, train error 0.10,  test loss 1.323185, test error 36.20\n",
      "Epoch    38, train loss 0.067122, train error 0.05,  test loss 1.328772, test error 35.80\n",
      "Epoch    39, train loss 0.065829, train error 0.05,  test loss 1.332605, test error 35.80\n",
      "Epoch    40, train loss 0.064855, train error 0.03,  test loss 1.340364, test error 36.20\n",
      "Epoch    41, train loss 0.064045, train error 0.05,  test loss 1.341468, test error 35.80\n",
      "Epoch    42, train loss 0.063333, train error 0.03,  test loss 1.343979, test error 35.80\n",
      "Epoch    43, train loss 0.062660, train error 0.03,  test loss 1.346288, test error 36.40\n",
      "Epoch    44, train loss 0.062108, train error 0.03,  test loss 1.348623, test error 35.90\n",
      "Epoch    45, train loss 0.061419, train error 0.03,  test loss 1.351203, test error 36.40\n",
      "Epoch    46, train loss 0.060770, train error 0.03,  test loss 1.354675, test error 36.00\n",
      "Epoch    47, train loss 0.060044, train error 0.03,  test loss 1.357260, test error 35.80\n",
      "Epoch    48, train loss 0.059568, train error 0.03,  test loss 1.359512, test error 35.90\n",
      "Epoch    49, train loss 0.058865, train error 0.03,  test loss 1.358835, test error 35.80\n"
     ]
    }
   ],
   "source": [
    "# choose cross entropy loss function (equation 5.24)\n",
    "loss_function = torch.nn.CrossEntropyLoss()\n",
    "# construct SGD optimizer and initialize learning rate and momentum\n",
    "optimizer = torch.optim.SGD(model.parameters(), lr = 0.05, momentum=0.9)\n",
    "# object that decreases learning rate by half every 10 epochs\n",
    "scheduler = StepLR(optimizer, step_size=10, gamma=0.5)\n",
    "x_train = torch.tensor(data['x'].astype('float32'))\n",
    "y_train = torch.tensor(data['y'].transpose().astype('int64'))\n",
    "x_test= torch.tensor(data['x_test'].astype('float32'))\n",
    "y_test = torch.tensor(data['y_test'].astype('int64'))\n",
    "\n",
    "# load the data into a class that creates the batches\n",
    "data_loader = DataLoader(TensorDataset(x_train,y_train), batch_size=100, shuffle=True, worker_init_fn=np.random.seed(1))\n",
    "\n",
    "# Initialize model weights\n",
    "model.apply(weights_init)\n",
    "\n",
    "# loop over the dataset n_epoch times\n",
    "n_epoch = 50\n",
    "# store the loss and the % correct at each epoch\n",
    "losses_train = np.zeros((n_epoch))\n",
    "errors_train = np.zeros((n_epoch))\n",
    "losses_test = np.zeros((n_epoch))\n",
    "errors_test = np.zeros((n_epoch))\n",
    "\n",
    "for epoch in range(n_epoch):\n",
    "  # loop over batches\n",
    "  for i, batch in enumerate(data_loader):\n",
    "    # retrieve inputs and labels for this batch\n",
    "    x_batch, y_batch = batch\n",
    "    # zero the parameter gradients\n",
    "    optimizer.zero_grad()\n",
    "    # forward pass -- calculate model output\n",
    "    pred = model(x_batch)\n",
    "    # compute the loss\n",
    "    loss = loss_function(pred, y_batch)\n",
    "    # backward pass\n",
    "    loss.backward()\n",
    "    # SGD update\n",
    "    optimizer.step()\n",
    "\n",
    "  # Run whole dataset to get statistics -- normally wouldn't do this\n",
    "  pred_train = model(x_train)\n",
    "  pred_test = model(x_test)\n",
    "  _, predicted_train_class = torch.max(pred_train.data, 1)\n",
    "  _, predicted_test_class = torch.max(pred_test.data, 1)\n",
    "  errors_train[epoch] = 100 - 100 * (predicted_train_class == y_train).float().sum() / len(y_train)\n",
    "  errors_test[epoch]= 100 - 100 * (predicted_test_class == y_test).float().sum() / len(y_test)\n",
    "  losses_train[epoch] = loss_function(pred_train, y_train).item()\n",
    "  losses_test[epoch]= loss_function(pred_test, y_test).item()\n",
    "  print(f'Epoch {epoch:5d}, train loss {losses_train[epoch]:.6f}, train error {errors_train[epoch]:3.2f},  test loss {losses_test[epoch]:.6f}, test error {errors_test[epoch]:3.2f}')\n",
    "\n",
    "  # tell scheduler to consider updating learning rate\n",
    "  scheduler.step()"
   ]
  },
  {
   "cell_type": "code",
   "execution_count": 8,
   "metadata": {
    "id": "yI-l6kA_EH9G"
   },
   "outputs": [
    {
     "data": {
      "image/png": "[encoded data removed]",
      "text/plain": [
       "<Figure size 640x480 with 1 Axes>"
      ]
     },
     "metadata": {},
     "output_type": "display_data"
    },
    {
     "data": {
      "image/png": "[encoded data removed]",
      "text/plain": [
       "<Figure size 640x480 with 1 Axes>"
      ]
     },
     "metadata": {},
     "output_type": "display_data"
    }
   ],
   "source": [
    "# Plot the results\n",
    "fig, ax = plt.subplots()\n",
    "ax.plot(errors_train,'r-',label='train')\n",
    "ax.plot(errors_test,'b-',label='test')\n",
    "ax.set_ylim(0,100); ax.set_xlim(0,n_epoch)\n",
    "ax.set_xlabel('Epoch'); ax.set_ylabel('Error')\n",
    "ax.set_title('TrainError %3.2f, Test Error %3.2f'%(errors_train[-1],errors_test[-1]))\n",
    "ax.legend()\n",
    "plt.show()\n",
    "\n",
    "# Plot the results\n",
    "fig, ax = plt.subplots()\n",
    "ax.plot(losses_train,'r-',label='train')\n",
    "ax.plot(losses_test,'b-',label='test')\n",
    "ax.set_xlim(0,n_epoch)\n",
    "ax.set_xlabel('Epoch'); ax.set_ylabel('Loss')\n",
    "ax.set_title('Train loss %3.2f, Test loss %3.2f'%(losses_train[-1],losses_test[-1]))\n",
    "ax.legend()\n",
    "plt.show()"
   ]
  },
  {
   "cell_type": "markdown",
   "metadata": {
    "id": "q-yT6re6GZS4"
   },
   "source": [
    "**TODO**\n",
    "\n",
    "Play with the model -- try changing the number of layers, hidden units, learning rate, batch size, momentum or anything else you like.  See if you can improve the test results.\n",
    "\n",
    "Is it a good idea to optimize the hyperparameters in this way?  Will the final result be a good estimate of the true test performance?"
   ]
  }
 ],
 "metadata": {
  "accelerator": "GPU",
  "colab": {
   "authorship_tag": "ABX9TyOuKMUcKfOIhIL2qTX9jJCy",
   "gpuType": "T4",
   "include_colab_link": true,
   "provenance": []
  },
  "kernelspec": {
   "display_name": "Python 3 (ipykernel)",
   "language": "python",
   "name": "python3"
  },
  "language_info": {
   "codemirror_mode": {
    "name": "ipython",
    "version": 3
   },
   "file_extension": ".py",
   "mimetype": "text/x-python",
   "name": "python",
   "nbconvert_exporter": "python",
   "pygments_lexer": "ipython3",
   "version": "3.9.23"
  }
 },
 "nbformat": 4,
 "nbformat_minor": 4
}
